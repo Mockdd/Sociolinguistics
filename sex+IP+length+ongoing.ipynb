{
  "cells": [
    {
      "cell_type": "code",
      "execution_count": null,
      "id": "dcc4e915",
      "metadata": {
        "id": "dcc4e915"
      },
      "outputs": [],
      "source": [
        "import json\n",
        "\n",
        "import pandas as pd\n",
        "import numpy as np\n",
        "import seaborn as sns\n",
        "import matplotlib.pyplot as plt\n",
        "\n",
        "import os\n",
        "os.chdir('./Final+paper/NIKL_DIALOUGUE_2023')"
      ]
    },
    {
      "cell_type": "code",
      "execution_count": null,
      "id": "21e9bf7f",
      "metadata": {
        "id": "21e9bf7f"
      },
      "outputs": [],
      "source": [
        "filelist = os.listdir()[2:]"
      ]
    },
    {
      "cell_type": "code",
      "execution_count": null,
      "id": "97883178",
      "metadata": {
        "id": "97883178",
        "outputId": "bade6abe-bdb2-4cf5-bb09-71f1227b9df1"
      },
      "outputs": [
        {
          "data": {
            "text/plain": [
              "1974"
            ]
          },
          "execution_count": 5,
          "metadata": {},
          "output_type": "execute_result"
        }
      ],
      "source": [
        "len(filelist)"
      ]
    },
    {
      "cell_type": "markdown",
      "id": "3b00ddee",
      "metadata": {
        "id": "3b00ddee"
      },
      "source": [
        "----------------------------------------\n",
        "- 1) 화자 metadata 시각화\n",
        "    - 화자 명수 시각화\n",
        "    - 화자 명수, 성별 정보쌍 시각화\n",
        "- 2) SVR 진행"
      ]
    },
    {
      "cell_type": "code",
      "execution_count": null,
      "id": "29d0d14c",
      "metadata": {
        "id": "29d0d14c"
      },
      "outputs": [],
      "source": [
        "def extract_speakers(path):\n",
        "    #open json file and read\n",
        "    with open(path, encoding = 'utf8') as f:\n",
        "        sample = json.loads(f.read())\n",
        "\n",
        "    #extract document\n",
        "    document = sample['document'][0]\n",
        "\n",
        "    #extract the speakers\n",
        "    speakers = dict()\n",
        "    for speaker in document['metadata']['speaker']:\n",
        "        speakers[speaker['id']] = speaker['sex']\n",
        "\n",
        "    return speakers"
      ]
    },
    {
      "cell_type": "code",
      "execution_count": null,
      "id": "35a7a876",
      "metadata": {
        "id": "35a7a876"
      },
      "outputs": [],
      "source": [
        "def extract_utterance(path):\n",
        "    #open json file and read\n",
        "    with open(path, encoding = 'utf8') as f:\n",
        "        sample = json.loads(f.read())\n",
        "\n",
        "\n",
        "    #extract document and the utterance\n",
        "    document = sample['document'][0]\n",
        "    utterance = pd.DataFrame(document['utterance'])\n",
        "\n",
        "    #extract the speakers and the utterances\n",
        "    speakers = extract_speakers(path)\n",
        "\n",
        "    #add up COUNT(the number of tokens within one intonational phrase), DURATION(the start and the end of one intonational phrase marked), SEX(the sex of the speaker)\n",
        "    utterance['syll_count'] = pd.Series(map(lambda x: len(list(''.join(x.split()))), utterance['form']))\n",
        "    utterance['token_count'] = pd.Series(map(lambda x: len(x.split()), utterance['form']))\n",
        "    utterance['duration'] = np.array(utterance['end'], dtype = np.float32) - np.array(utterance['start'], dtype = np.float32)\n",
        "    utterance['sex'] = [speakers[id] for id in utterance.speaker_id]\n",
        "    utterance['sex'] = pd.Series(map(lambda x: 'F' if x == '여성' else 'M', utterance['sex']))\n",
        "    utterance = utterance.drop(['original_form', 'start', 'end', 'note'], axis = 1)\n",
        "\n",
        "    #add up AUDIENCE SEX(the sex of the audience, G is for more than two genders(sex)), SEX_COMBI(the combination of the sex of the speaker and the audience)\n",
        "    if len(document['metadata']['speaker']) > 2:\n",
        "        utterance['audience_sex'] = 'G'\n",
        "    else:\n",
        "        utterance['audience_sex'] = ['F' if speakers[remain] == '여자' else 'M' for speaker in utterance['speaker_id'] for remain in list(set(speakers).difference(set([speaker])))]\n",
        "    utterance['sex_combi'] = [(s_sex, a_sex) for s_sex, a_sex in zip(utterance['sex'], utterance['audience_sex'])]\n",
        "\n",
        "    #process one-hot encoding of the following features: SEX, AUDIENCE_SEX, SEX_COMBI\n",
        "    for feature in ['sex', 'audience_sex', 'sex_combi']:\n",
        "        utterance = pd.get_dummies(utterance, prefix = feature, columns = [feature])\n",
        "\n",
        "    return utterance"
      ]
    },
    {
      "cell_type": "code",
      "execution_count": null,
      "id": "0e34aef6",
      "metadata": {
        "id": "0e34aef6"
      },
      "outputs": [],
      "source": [
        "def token_into_dis(path):\n",
        "    speakers, utterance = extract_speakers(path), extract_utterance(path)\n",
        "\n",
        "    for speaker in speakers:\n",
        "        sns.histplot(utterance[utterance['speaker_id'] == speaker]['token_count'])\n",
        "\n",
        "    return speakers.values()"
      ]
    },
    {
      "cell_type": "code",
      "execution_count": null,
      "id": "8f0fa930",
      "metadata": {
        "id": "8f0fa930"
      },
      "outputs": [],
      "source": [
        "def syllable_into_dist(path):\n",
        "    speakers, utterance = extract_speakers(path), extract_utterance(path)\n",
        "\n",
        "    for speaker in speakers:\n",
        "        sns.histplot(utterance[utterance['speaker_id'] == speaker]['syll_count'])\n",
        "\n",
        "    return speakers.values()"
      ]
    },
    {
      "cell_type": "markdown",
      "id": "5b4f1c66",
      "metadata": {
        "id": "5b4f1c66"
      },
      "source": [
        "- 화자 명수 추출"
      ]
    },
    {
      "cell_type": "code",
      "execution_count": null,
      "id": "463149f5",
      "metadata": {
        "id": "463149f5"
      },
      "outputs": [],
      "source": [
        "import collections\n",
        "data = [len(extract_speakers(file)) for file in filelist]\n",
        "collections.Counter(data)\n",
        "\n",
        "count_keys = collections.Counter(data).keys()\n",
        "count_values = collections.Counter(data).values()"
      ]
    },
    {
      "cell_type": "code",
      "execution_count": null,
      "id": "03f83326",
      "metadata": {
        "id": "03f83326",
        "outputId": "ff435bbd-d3d8-4d0a-8517-51e33200c122"
      },
      "outputs": [
        {
          "data": {
            "text/plain": [
              "(3, 3)"
            ]
          },
          "execution_count": 10,
          "metadata": {},
          "output_type": "execute_result"
        }
      ],
      "source": [
        "len(count_keys), len(count_values)"
      ]
    },
    {
      "cell_type": "code",
      "execution_count": null,
      "id": "399414b7",
      "metadata": {
        "id": "399414b7"
      },
      "outputs": [],
      "source": [
        "data_count = pd.DataFrame({'Number': count_keys, 'Count': count_values})"
      ]
    },
    {
      "cell_type": "code",
      "execution_count": null,
      "id": "268121d0",
      "metadata": {
        "id": "268121d0",
        "outputId": "96a07473-4380-4bdf-a6ea-fd16c5d7dd58"
      },
      "outputs": [
        {
          "data": {
            "text/html": [
              "<div>\n",
              "<style scoped>\n",
              "    .dataframe tbody tr th:only-of-type {\n",
              "        vertical-align: middle;\n",
              "    }\n",
              "\n",
              "    .dataframe tbody tr th {\n",
              "        vertical-align: top;\n",
              "    }\n",
              "\n",
              "    .dataframe thead th {\n",
              "        text-align: right;\n",
              "    }\n",
              "</style>\n",
              "<table border=\"1\" class=\"dataframe\">\n",
              "  <thead>\n",
              "    <tr style=\"text-align: right;\">\n",
              "      <th></th>\n",
              "      <th>Number</th>\n",
              "      <th>Count</th>\n",
              "    </tr>\n",
              "  </thead>\n",
              "  <tbody>\n",
              "    <tr>\n",
              "      <th>0</th>\n",
              "      <td>2</td>\n",
              "      <td>1243</td>\n",
              "    </tr>\n",
              "    <tr>\n",
              "      <th>1</th>\n",
              "      <td>4</td>\n",
              "      <td>290</td>\n",
              "    </tr>\n",
              "    <tr>\n",
              "      <th>2</th>\n",
              "      <td>3</td>\n",
              "      <td>440</td>\n",
              "    </tr>\n",
              "  </tbody>\n",
              "</table>\n",
              "</div>"
            ],
            "text/plain": [
              "   Number  Count\n",
              "0       2   1243\n",
              "1       4    290\n",
              "2       3    440"
            ]
          },
          "execution_count": 12,
          "metadata": {},
          "output_type": "execute_result"
        }
      ],
      "source": [
        "data_count"
      ]
    },
    {
      "cell_type": "code",
      "execution_count": null,
      "id": "d1aedf13",
      "metadata": {
        "id": "d1aedf13",
        "outputId": "abf31860-405c-4c2a-cc98-7da031600cdc"
      },
      "outputs": [
        {
          "data": {
            "text/plain": [
              "<seaborn.axisgrid.FacetGrid at 0x28b3f8714f0>"
            ]
          },
          "execution_count": 14,
          "metadata": {},
          "output_type": "execute_result"
        },
        {
          "data": {
            "image/png": "[encoded data removed]",
            "text/plain": [
              "<Figure size 360x360 with 1 Axes>"
            ]
          },
          "metadata": {
            "needs_background": "light"
          },
          "output_type": "display_data"
        }
      ],
      "source": [
        "sns.catplot(data = data_count,\n",
        "           x = 'Number', y = 'Count',\n",
        "           kind = 'bar')"
      ]
    },
    {
      "cell_type": "code",
      "execution_count": null,
      "id": "55c794a8",
      "metadata": {
        "id": "55c794a8",
        "outputId": "b633caca-2e33-4024-d2c0-806e65f4c7ec"
      },
      "outputs": [
        {
          "data": {
            "image/png": "[encoded data removed]",
            "text/plain": [
              "<Figure size 432x288 with 1 Axes>"
            ]
          },
          "metadata": {
            "needs_background": "light"
          },
          "output_type": "display_data"
        }
      ],
      "source": [
        "import matplotlib.pyplot as plt\n",
        "\n",
        "labels = ['G1', 'G2', 'G3', 'G4', 'G5']\n",
        "men_means = [20, 35, 30, 35, 27]\n",
        "women_means = [25, 32, 34, 20, 25]\n",
        "men_std = [2, 3, 4, 1, 2]\n",
        "women_std = [3, 5, 2, 3, 3]\n",
        "width = 0.35\n",
        "\n",
        "fig, ax = plt.subplots()\n",
        "ax.bar(labels, men_means, width, yerr = men_std, label = 'Men')\n",
        "ax.bar(labels, women_means, width, yerr = women_std, bottom = men_means,\n",
        "      label = 'Women')\n",
        "\n",
        "ax.set_ylabel('Scores')\n",
        "ax.set_title('Scores by group and gender')\n",
        "ax.legend()\n",
        "\n",
        "plt.show()"
      ]
    },
    {
      "cell_type": "code",
      "execution_count": null,
      "id": "293bc029",
      "metadata": {
        "scrolled": true,
        "id": "293bc029",
        "outputId": "2de56429-b6b6-4ba9-a32c-546c28b223c3"
      },
      "outputs": [
        {
          "data": {
            "image/png": "[encoded data removed]",
            "text/plain": [
              "<Figure size 432x288 with 1 Axes>"
            ]
          },
          "metadata": {
            "needs_background": "light"
          },
          "output_type": "display_data"
        }
      ],
      "source": [
        "plt.figure()\n",
        "plt.bar(data_count.Number, data_count.Count,\n",
        "        width = 0.5, edgecolor = 'white'\n",
        "        )\n",
        "plt.xlabel('Number')\n",
        "plt.ylabel('Count')\n",
        "plt.title('The Number of Participants')\n",
        "plt.savefig('The Number of Participants')"
      ]
    },
    {
      "cell_type": "markdown",
      "id": "caefc593",
      "metadata": {
        "id": "caefc593"
      },
      "source": [
        "**2명: 1243명, 3명: 440명, 4명: 290명**"
      ]
    },
    {
      "cell_type": "markdown",
      "id": "15af0a58",
      "metadata": {
        "id": "15af0a58"
      },
      "source": [
        "- 화자 성별 추출"
      ]
    },
    {
      "cell_type": "code",
      "execution_count": null,
      "id": "2428b299",
      "metadata": {
        "id": "2428b299"
      },
      "outputs": [],
      "source": [
        "data = [tuple(sorted(list(extract_speakers(file).values()))) for file in filelist]"
      ]
    },
    {
      "cell_type": "code",
      "execution_count": null,
      "id": "26c0e117",
      "metadata": {
        "scrolled": true,
        "id": "26c0e117"
      },
      "outputs": [],
      "source": [
        "Keys = list(collections.Counter(data).keys())\n",
        "keys = []\n",
        "for Key in Keys:\n",
        "    keys.append(list(map(lambda x: 'F' if x == '여성' else 'M', Key)))\n",
        "Values = list(collections.Counter(data).values())"
      ]
    },
    {
      "cell_type": "code",
      "execution_count": null,
      "id": "0188889f",
      "metadata": {
        "id": "0188889f",
        "outputId": "042a9cad-0d61-423d-9aaa-6d53ddf28e6c"
      },
      "outputs": [
        {
          "data": {
            "text/plain": [
              "[['F', 'F'],\n",
              " ['M', 'M', 'F', 'F'],\n",
              " ['M', 'F', 'F', 'F'],\n",
              " ['M', 'F'],\n",
              " ['M', 'F', 'F'],\n",
              " ['F', 'F', 'F'],\n",
              " ['F', 'F', 'F', 'F'],\n",
              " ['M', 'M', 'F'],\n",
              " ['M', 'M', 'M'],\n",
              " ['M', 'M'],\n",
              " ['M', 'M', 'M', 'F'],\n",
              " ['M', 'M', 'M', 'M']]"
            ]
          },
          "execution_count": 47,
          "metadata": {},
          "output_type": "execute_result"
        }
      ],
      "source": [
        "keys"
      ]
    },
    {
      "cell_type": "code",
      "execution_count": null,
      "id": "33ef2bff",
      "metadata": {
        "id": "33ef2bff"
      },
      "outputs": [],
      "source": [
        "data_sex = pd.DataFrame({'category': keys, 'count': Values})"
      ]
    },
    {
      "cell_type": "code",
      "execution_count": null,
      "id": "a9dc7978",
      "metadata": {
        "id": "a9dc7978"
      },
      "outputs": [],
      "source": [
        "data_sex['Number'] = pd.Series(map(lambda x: len(x), data_sex['category']))"
      ]
    },
    {
      "cell_type": "code",
      "execution_count": null,
      "id": "1af84de1",
      "metadata": {
        "scrolled": true,
        "id": "1af84de1",
        "outputId": "f37a7c5a-1f31-439d-d719-5136a2d76b76"
      },
      "outputs": [
        {
          "data": {
            "text/html": [
              "<div>\n",
              "<style scoped>\n",
              "    .dataframe tbody tr th:only-of-type {\n",
              "        vertical-align: middle;\n",
              "    }\n",
              "\n",
              "    .dataframe tbody tr th {\n",
              "        vertical-align: top;\n",
              "    }\n",
              "\n",
              "    .dataframe thead th {\n",
              "        text-align: right;\n",
              "    }\n",
              "</style>\n",
              "<table border=\"1\" class=\"dataframe\">\n",
              "  <thead>\n",
              "    <tr style=\"text-align: right;\">\n",
              "      <th></th>\n",
              "      <th>category</th>\n",
              "      <th>count</th>\n",
              "      <th>Number</th>\n",
              "    </tr>\n",
              "  </thead>\n",
              "  <tbody>\n",
              "    <tr>\n",
              "      <th>0</th>\n",
              "      <td>[F, F]</td>\n",
              "      <td>527</td>\n",
              "      <td>2</td>\n",
              "    </tr>\n",
              "    <tr>\n",
              "      <th>1</th>\n",
              "      <td>[M, M, F, F]</td>\n",
              "      <td>29</td>\n",
              "      <td>4</td>\n",
              "    </tr>\n",
              "    <tr>\n",
              "      <th>2</th>\n",
              "      <td>[M, F, F, F]</td>\n",
              "      <td>98</td>\n",
              "      <td>4</td>\n",
              "    </tr>\n",
              "    <tr>\n",
              "      <th>3</th>\n",
              "      <td>[M, F]</td>\n",
              "      <td>335</td>\n",
              "      <td>2</td>\n",
              "    </tr>\n",
              "    <tr>\n",
              "      <th>4</th>\n",
              "      <td>[M, F, F]</td>\n",
              "      <td>131</td>\n",
              "      <td>3</td>\n",
              "    </tr>\n",
              "    <tr>\n",
              "      <th>5</th>\n",
              "      <td>[F, F, F]</td>\n",
              "      <td>193</td>\n",
              "      <td>3</td>\n",
              "    </tr>\n",
              "    <tr>\n",
              "      <th>6</th>\n",
              "      <td>[F, F, F, F]</td>\n",
              "      <td>154</td>\n",
              "      <td>4</td>\n",
              "    </tr>\n",
              "    <tr>\n",
              "      <th>7</th>\n",
              "      <td>[M, M, F]</td>\n",
              "      <td>51</td>\n",
              "      <td>3</td>\n",
              "    </tr>\n",
              "    <tr>\n",
              "      <th>8</th>\n",
              "      <td>[M, M, M]</td>\n",
              "      <td>65</td>\n",
              "      <td>3</td>\n",
              "    </tr>\n",
              "    <tr>\n",
              "      <th>9</th>\n",
              "      <td>[M, M]</td>\n",
              "      <td>381</td>\n",
              "      <td>2</td>\n",
              "    </tr>\n",
              "    <tr>\n",
              "      <th>10</th>\n",
              "      <td>[M, M, M, F]</td>\n",
              "      <td>6</td>\n",
              "      <td>4</td>\n",
              "    </tr>\n",
              "    <tr>\n",
              "      <th>11</th>\n",
              "      <td>[M, M, M, M]</td>\n",
              "      <td>3</td>\n",
              "      <td>4</td>\n",
              "    </tr>\n",
              "  </tbody>\n",
              "</table>\n",
              "</div>"
            ],
            "text/plain": [
              "        category  count  Number\n",
              "0         [F, F]    527       2\n",
              "1   [M, M, F, F]     29       4\n",
              "2   [M, F, F, F]     98       4\n",
              "3         [M, F]    335       2\n",
              "4      [M, F, F]    131       3\n",
              "5      [F, F, F]    193       3\n",
              "6   [F, F, F, F]    154       4\n",
              "7      [M, M, F]     51       3\n",
              "8      [M, M, M]     65       3\n",
              "9         [M, M]    381       2\n",
              "10  [M, M, M, F]      6       4\n",
              "11  [M, M, M, M]      3       4"
            ]
          },
          "execution_count": 50,
          "metadata": {},
          "output_type": "execute_result"
        }
      ],
      "source": [
        "data_sex"
      ]
    },
    {
      "cell_type": "code",
      "execution_count": null,
      "id": "5850a803",
      "metadata": {
        "scrolled": true,
        "id": "5850a803"
      },
      "outputs": [],
      "source": [
        "data_sex_count = pd.merge(data_sex, data_count)"
      ]
    },
    {
      "cell_type": "code",
      "execution_count": null,
      "id": "e008928b",
      "metadata": {
        "scrolled": false,
        "id": "e008928b",
        "outputId": "c38c5b49-dab9-4e4d-f3bc-cd25457c6199"
      },
      "outputs": [
        {
          "data": {
            "text/html": [
              "<div>\n",
              "<style scoped>\n",
              "    .dataframe tbody tr th:only-of-type {\n",
              "        vertical-align: middle;\n",
              "    }\n",
              "\n",
              "    .dataframe tbody tr th {\n",
              "        vertical-align: top;\n",
              "    }\n",
              "\n",
              "    .dataframe thead th {\n",
              "        text-align: right;\n",
              "    }\n",
              "</style>\n",
              "<table border=\"1\" class=\"dataframe\">\n",
              "  <thead>\n",
              "    <tr style=\"text-align: right;\">\n",
              "      <th></th>\n",
              "      <th>category</th>\n",
              "      <th>count</th>\n",
              "      <th>Number</th>\n",
              "    </tr>\n",
              "  </thead>\n",
              "  <tbody>\n",
              "    <tr>\n",
              "      <th>0</th>\n",
              "      <td>[F, F]</td>\n",
              "      <td>527</td>\n",
              "      <td>2</td>\n",
              "    </tr>\n",
              "    <tr>\n",
              "      <th>1</th>\n",
              "      <td>[M, F]</td>\n",
              "      <td>335</td>\n",
              "      <td>2</td>\n",
              "    </tr>\n",
              "    <tr>\n",
              "      <th>2</th>\n",
              "      <td>[M, M]</td>\n",
              "      <td>381</td>\n",
              "      <td>2</td>\n",
              "    </tr>\n",
              "    <tr>\n",
              "      <th>3</th>\n",
              "      <td>[M, M, F, F]</td>\n",
              "      <td>29</td>\n",
              "      <td>4</td>\n",
              "    </tr>\n",
              "    <tr>\n",
              "      <th>4</th>\n",
              "      <td>[M, F, F, F]</td>\n",
              "      <td>98</td>\n",
              "      <td>4</td>\n",
              "    </tr>\n",
              "    <tr>\n",
              "      <th>5</th>\n",
              "      <td>[F, F, F, F]</td>\n",
              "      <td>154</td>\n",
              "      <td>4</td>\n",
              "    </tr>\n",
              "    <tr>\n",
              "      <th>6</th>\n",
              "      <td>[M, M, M, F]</td>\n",
              "      <td>6</td>\n",
              "      <td>4</td>\n",
              "    </tr>\n",
              "    <tr>\n",
              "      <th>7</th>\n",
              "      <td>[M, M, M, M]</td>\n",
              "      <td>3</td>\n",
              "      <td>4</td>\n",
              "    </tr>\n",
              "    <tr>\n",
              "      <th>8</th>\n",
              "      <td>[M, F, F]</td>\n",
              "      <td>131</td>\n",
              "      <td>3</td>\n",
              "    </tr>\n",
              "    <tr>\n",
              "      <th>9</th>\n",
              "      <td>[F, F, F]</td>\n",
              "      <td>193</td>\n",
              "      <td>3</td>\n",
              "    </tr>\n",
              "    <tr>\n",
              "      <th>10</th>\n",
              "      <td>[M, M, F]</td>\n",
              "      <td>51</td>\n",
              "      <td>3</td>\n",
              "    </tr>\n",
              "    <tr>\n",
              "      <th>11</th>\n",
              "      <td>[M, M, M]</td>\n",
              "      <td>65</td>\n",
              "      <td>3</td>\n",
              "    </tr>\n",
              "  </tbody>\n",
              "</table>\n",
              "</div>"
            ],
            "text/plain": [
              "        category  count  Number\n",
              "0         [F, F]    527       2\n",
              "1         [M, F]    335       2\n",
              "2         [M, M]    381       2\n",
              "3   [M, M, F, F]     29       4\n",
              "4   [M, F, F, F]     98       4\n",
              "5   [F, F, F, F]    154       4\n",
              "6   [M, M, M, F]      6       4\n",
              "7   [M, M, M, M]      3       4\n",
              "8      [M, F, F]    131       3\n",
              "9      [F, F, F]    193       3\n",
              "10     [M, M, F]     51       3\n",
              "11     [M, M, M]     65       3"
            ]
          },
          "execution_count": 77,
          "metadata": {},
          "output_type": "execute_result"
        }
      ],
      "source": [
        "data_sex_count.drop('Count', axis = 1)"
      ]
    },
    {
      "cell_type": "code",
      "execution_count": null,
      "id": "e0bf7a57",
      "metadata": {
        "id": "e0bf7a57"
      },
      "outputs": [],
      "source": [
        "data_sex_count['category'] = pd.Series(map(lambda x: str(x), data_sex_count['category']))"
      ]
    },
    {
      "cell_type": "code",
      "execution_count": null,
      "id": "82e23ab6",
      "metadata": {
        "id": "82e23ab6",
        "outputId": "8cca6122-f03d-426e-e723-7c587a7f6fc9"
      },
      "outputs": [
        {
          "data": {
            "text/plain": [
              "<Axes: xlabel='Number', ylabel='Count'>"
            ]
          },
          "execution_count": 82,
          "metadata": {},
          "output_type": "execute_result"
        },
        {
          "data": {
            "image/png": "[encoded data removed]",
            "text/plain": [
              "<Figure size 432x288 with 1 Axes>"
            ]
          },
          "metadata": {
            "needs_background": "light"
          },
          "output_type": "display_data"
        }
      ],
      "source": [
        "sns.barplot(data = data_sex_count,\n",
        "           x = 'Number',\n",
        "           y = 'Count',\n",
        "           hue = 'category')"
      ]
    },
    {
      "cell_type": "code",
      "execution_count": null,
      "id": "4bf36a4a",
      "metadata": {
        "scrolled": false,
        "id": "4bf36a4a",
        "outputId": "5c5a6981-1fc1-4e98-de4d-96c2c1580d61"
      },
      "outputs": [
        {
          "data": {
            "text/plain": [
              "Text(0.5, 1.0, 'The Number of Participants')"
            ]
          },
          "execution_count": 108,
          "metadata": {},
          "output_type": "execute_result"
        },
        {
          "data": {
            "image/png": "[encoded data removed]",
            "text/plain": [
              "<Figure size 432x288 with 1 Axes>"
            ]
          },
          "metadata": {
            "needs_background": "light"
          },
          "output_type": "display_data"
        }
      ],
      "source": [
        "labels = [2, 3, 4]\n",
        "F_F = [527, 0, 0]\n",
        "F_M = [335, 0, 0]\n",
        "M_M = [381, 0, 0]\n",
        "F_F_F = [0, 193, 0]\n",
        "F_F_M = [0, 131, 0]\n",
        "F_M_M = [0, 51, 0]\n",
        "M_M_M = [0, 65, 0]\n",
        "F_F_F_F = [0, 0, 154]\n",
        "F_F_F_M = [0, 0, 98]\n",
        "F_F_M_M = [0, 0, 29]\n",
        "F_M_M_M = [0, 0, 6]\n",
        "M_M_M_M = [0, 0, 3]\n",
        "\n",
        "width = 0.85\n",
        "\n",
        "fig, ax = plt.subplots()\n",
        "ax.bar(labels, F_F, width)\n",
        "ax.bar(labels, F_M, width, bottom = F_F)\n",
        "ax.bar(labels, M_M, width, bottom = np.array(F_M) + np.array(F_F))\n",
        "\n",
        "ax.bar(labels, F_F_F, width)\n",
        "ax.bar(labels, F_F_M, width, bottom = F_F_F)\n",
        "ax.bar(labels, F_M_M, width, bottom = np.array(F_F_F) + np.array(F_F_M))\n",
        "ax.bar(labels, M_M_M, width, bottom = np.array(F_F_F) + np.array(F_F_M) + np.array(F_M_M))\n",
        "\n",
        "ax.bar(labels, F_F_F_F, width)\n",
        "ax.bar(labels, F_F_F_M, width, bottom = F_F_F_F)\n",
        "ax.bar(labels, F_F_M_M, width, bottom = np.array(F_F_F_F) + np.array(F_F_F_M))\n",
        "ax.bar(labels, F_M_M_M, width, bottom = np.array(F_F_F_F) + np.array(F_F_F_M) + np.array(F_F_M_M))\n",
        "ax.bar(labels, M_M_M_M, width, bottom = np.array(F_F_F_F) + np.array(F_F_F_M) + np.array(F_F_M_M) + np.array(F_M_M_M))\n",
        "\n",
        "ax.set_xticks([2, 3, 4])\n",
        "\n",
        "stack = 0\n",
        "pre_i = int()\n",
        "for i, sex in zip(data_sex_count['Number'], [F_F, F_M, M_M, F_F_F, F_F_M, F_M_M, M_M_M, F_F_F_F, F_F_F_M, F_F_M_M, F_M_M_M, M_M_M_M]):\n",
        "    if pre_i == i:\n",
        "        stack += np.sum(sex)\n",
        "        ax.annotate(f'{sex[i-2]}', [i - 0.1, np.mean(sex) + stack])\n",
        "    else:\n",
        "        ax.annotate(f'{sex[i - 2]}', [i - 0.1, np.mean(sex)])\n",
        "        stack = 0\n",
        "    pre_i = i\n",
        "\n",
        "\n",
        "ax.set_ylabel('Counts')\n",
        "ax.set_xlabel('Number')\n",
        "ax.set_title('The Number of Participants')\n",
        "\n"
      ]
    },
    {
      "cell_type": "code",
      "execution_count": null,
      "id": "94503be3",
      "metadata": {
        "id": "94503be3",
        "outputId": "b259d816-8d25-45e9-e88e-2bede7390eed"
      },
      "outputs": [
        {
          "data": {
            "text/html": [
              "<div>\n",
              "<style scoped>\n",
              "    .dataframe tbody tr th:only-of-type {\n",
              "        vertical-align: middle;\n",
              "    }\n",
              "\n",
              "    .dataframe tbody tr th {\n",
              "        vertical-align: top;\n",
              "    }\n",
              "\n",
              "    .dataframe thead th {\n",
              "        text-align: right;\n",
              "    }\n",
              "</style>\n",
              "<table border=\"1\" class=\"dataframe\">\n",
              "  <thead>\n",
              "    <tr style=\"text-align: right;\">\n",
              "      <th></th>\n",
              "      <th>category</th>\n",
              "      <th>count</th>\n",
              "      <th>Number</th>\n",
              "      <th>Count</th>\n",
              "    </tr>\n",
              "  </thead>\n",
              "  <tbody>\n",
              "    <tr>\n",
              "      <th>0</th>\n",
              "      <td>['F', 'F']</td>\n",
              "      <td>527</td>\n",
              "      <td>2</td>\n",
              "      <td>1243</td>\n",
              "    </tr>\n",
              "    <tr>\n",
              "      <th>1</th>\n",
              "      <td>['M', 'F']</td>\n",
              "      <td>335</td>\n",
              "      <td>2</td>\n",
              "      <td>1243</td>\n",
              "    </tr>\n",
              "    <tr>\n",
              "      <th>2</th>\n",
              "      <td>['M', 'M']</td>\n",
              "      <td>381</td>\n",
              "      <td>2</td>\n",
              "      <td>1243</td>\n",
              "    </tr>\n",
              "    <tr>\n",
              "      <th>3</th>\n",
              "      <td>['M', 'M', 'F', 'F']</td>\n",
              "      <td>29</td>\n",
              "      <td>4</td>\n",
              "      <td>290</td>\n",
              "    </tr>\n",
              "    <tr>\n",
              "      <th>4</th>\n",
              "      <td>['M', 'F', 'F', 'F']</td>\n",
              "      <td>98</td>\n",
              "      <td>4</td>\n",
              "      <td>290</td>\n",
              "    </tr>\n",
              "    <tr>\n",
              "      <th>5</th>\n",
              "      <td>['F', 'F', 'F', 'F']</td>\n",
              "      <td>154</td>\n",
              "      <td>4</td>\n",
              "      <td>290</td>\n",
              "    </tr>\n",
              "    <tr>\n",
              "      <th>6</th>\n",
              "      <td>['M', 'M', 'M', 'F']</td>\n",
              "      <td>6</td>\n",
              "      <td>4</td>\n",
              "      <td>290</td>\n",
              "    </tr>\n",
              "    <tr>\n",
              "      <th>7</th>\n",
              "      <td>['M', 'M', 'M', 'M']</td>\n",
              "      <td>3</td>\n",
              "      <td>4</td>\n",
              "      <td>290</td>\n",
              "    </tr>\n",
              "    <tr>\n",
              "      <th>8</th>\n",
              "      <td>['M', 'F', 'F']</td>\n",
              "      <td>131</td>\n",
              "      <td>3</td>\n",
              "      <td>440</td>\n",
              "    </tr>\n",
              "    <tr>\n",
              "      <th>9</th>\n",
              "      <td>['F', 'F', 'F']</td>\n",
              "      <td>193</td>\n",
              "      <td>3</td>\n",
              "      <td>440</td>\n",
              "    </tr>\n",
              "    <tr>\n",
              "      <th>10</th>\n",
              "      <td>['M', 'M', 'F']</td>\n",
              "      <td>51</td>\n",
              "      <td>3</td>\n",
              "      <td>440</td>\n",
              "    </tr>\n",
              "    <tr>\n",
              "      <th>11</th>\n",
              "      <td>['M', 'M', 'M']</td>\n",
              "      <td>65</td>\n",
              "      <td>3</td>\n",
              "      <td>440</td>\n",
              "    </tr>\n",
              "  </tbody>\n",
              "</table>\n",
              "</div>"
            ],
            "text/plain": [
              "                category  count  Number  Count\n",
              "0             ['F', 'F']    527       2   1243\n",
              "1             ['M', 'F']    335       2   1243\n",
              "2             ['M', 'M']    381       2   1243\n",
              "3   ['M', 'M', 'F', 'F']     29       4    290\n",
              "4   ['M', 'F', 'F', 'F']     98       4    290\n",
              "5   ['F', 'F', 'F', 'F']    154       4    290\n",
              "6   ['M', 'M', 'M', 'F']      6       4    290\n",
              "7   ['M', 'M', 'M', 'M']      3       4    290\n",
              "8        ['M', 'F', 'F']    131       3    440\n",
              "9        ['F', 'F', 'F']    193       3    440\n",
              "10       ['M', 'M', 'F']     51       3    440\n",
              "11       ['M', 'M', 'M']     65       3    440"
            ]
          },
          "execution_count": 93,
          "metadata": {},
          "output_type": "execute_result"
        }
      ],
      "source": [
        "data_sex_count"
      ]
    },
    {
      "cell_type": "markdown",
      "id": "0a390e0c",
      "metadata": {
        "id": "0a390e0c"
      },
      "source": [
        "- **화자가 2명인 경우**\n",
        "    - **여성 & 여성: 427개**\n",
        "    - **여성 & 남성: 335개**\n",
        "    - **남성 & 남성: 381명**\n",
        "- **화자가 3명인 경우**\n",
        "    - **여성 & 여성 & 여성: 193개**\n",
        "    - **여성 & 여성 & 남성: 131개**\n",
        "    - **여성 & 남성 & 남성: 51개**\n",
        "    - **남성 & 남성 & 남성: 65개**\n",
        "- **화자가 4명인 경우**\n",
        "    - **여성 & 여성 & 여성 & 여성: 154개**\n",
        "    - **여성 & 여성 & 여성 & 남성: 98개**\n",
        "    - **여성 & 여성 & 남성 & 남성: 29개**\n",
        "    - **여성 & 남성  & 남성 & 남성: 6개**\n",
        "    - **남성 & 남성 & 남성 & 남성: 3개**"
      ]
    },
    {
      "cell_type": "markdown",
      "id": "17412b88",
      "metadata": {
        "id": "17412b88"
      },
      "source": [
        "**대화 참여 총 인원: 2168명**"
      ]
    },
    {
      "cell_type": "markdown",
      "id": "9bd147af",
      "metadata": {
        "id": "9bd147af"
      },
      "source": [
        "- 억양구 길이 분포"
      ]
    },
    {
      "cell_type": "code",
      "execution_count": null,
      "id": "50c2b9d2",
      "metadata": {
        "id": "50c2b9d2"
      },
      "outputs": [],
      "source": [
        "def token_into_dis(path):\n",
        "\n",
        "    speakers, utterance = extract_speakers(path), extract_utterance(path)\n",
        "    IP = dict()\n",
        "\n",
        "\n",
        "    for speaker in speakers:\n",
        "        sns.histplot(utterance[utterance['speaker_id'] == speaker]['token_count'])\n",
        "        IP[speaker] = list(utterance[utterance['speaker_id'] == speaker]['token_count'])\n",
        "\n",
        "    return speakers, IP"
      ]
    },
    {
      "cell_type": "code",
      "execution_count": null,
      "id": "2bb88928",
      "metadata": {
        "id": "2bb88928",
        "outputId": "510aaba0-8114-4b2f-bc6c-c7ce0c8f6eeb"
      },
      "outputs": [
        {
          "ename": "TypeError",
          "evalue": "'StandardScaler' object is not callable",
          "output_type": "error",
          "traceback": [
            "\u001b[1;31m---------------------------------------------------------------------------\u001b[0m",
            "\u001b[1;31mTypeError\u001b[0m                                 Traceback (most recent call last)",
            "\u001b[1;32mC:\\Users\\AARONC~1\\AppData\\Local\\Temp/ipykernel_25656/2797308893.py\u001b[0m in \u001b[0;36m<module>\u001b[1;34m\u001b[0m\n\u001b[1;32m----> 1\u001b[1;33m \u001b[0mtokens\u001b[0m\u001b[1;33m,\u001b[0m \u001b[0mIP\u001b[0m \u001b[1;33m=\u001b[0m \u001b[0mtoken_into_dis\u001b[0m\u001b[1;33m(\u001b[0m\u001b[0mfilelist\u001b[0m\u001b[1;33m[\u001b[0m\u001b[1;33m-\u001b[0m\u001b[1;36m1\u001b[0m\u001b[1;33m]\u001b[0m\u001b[1;33m)\u001b[0m\u001b[1;33m\u001b[0m\u001b[1;33m\u001b[0m\u001b[0m\n\u001b[0m",
            "\u001b[1;32mC:\\Users\\AARONC~1\\AppData\\Local\\Temp/ipykernel_25656/148767138.py\u001b[0m in \u001b[0;36mtoken_into_dis\u001b[1;34m(path)\u001b[0m\n\u001b[0;32m      8\u001b[0m \u001b[1;33m\u001b[0m\u001b[0m\n\u001b[0;32m      9\u001b[0m     \u001b[1;32mfor\u001b[0m \u001b[0mspeaker\u001b[0m \u001b[1;32min\u001b[0m \u001b[0mspeakers\u001b[0m\u001b[1;33m:\u001b[0m\u001b[1;33m\u001b[0m\u001b[1;33m\u001b[0m\u001b[0m\n\u001b[1;32m---> 10\u001b[1;33m         \u001b[0msns\u001b[0m\u001b[1;33m.\u001b[0m\u001b[0mhistplot\u001b[0m\u001b[1;33m(\u001b[0m\u001b[0mscaler\u001b[0m\u001b[1;33m(\u001b[0m\u001b[0mutterance\u001b[0m\u001b[1;33m[\u001b[0m\u001b[0mutterance\u001b[0m\u001b[1;33m[\u001b[0m\u001b[1;34m'speaker_id'\u001b[0m\u001b[1;33m]\u001b[0m \u001b[1;33m==\u001b[0m \u001b[0mspeaker\u001b[0m\u001b[1;33m]\u001b[0m\u001b[1;33m[\u001b[0m\u001b[1;34m'token_count'\u001b[0m\u001b[1;33m]\u001b[0m\u001b[1;33m)\u001b[0m\u001b[1;33m.\u001b[0m\u001b[0mfit_transform\u001b[0m\u001b[1;33m(\u001b[0m\u001b[1;33m)\u001b[0m\u001b[1;33m)\u001b[0m\u001b[1;33m\u001b[0m\u001b[1;33m\u001b[0m\u001b[0m\n\u001b[0m\u001b[0;32m     11\u001b[0m         \u001b[0mIP\u001b[0m\u001b[1;33m[\u001b[0m\u001b[0mspeaker\u001b[0m\u001b[1;33m]\u001b[0m \u001b[1;33m=\u001b[0m \u001b[0mlist\u001b[0m\u001b[1;33m(\u001b[0m\u001b[0mutterance\u001b[0m\u001b[1;33m[\u001b[0m\u001b[0mutterance\u001b[0m\u001b[1;33m[\u001b[0m\u001b[1;34m'speaker_id'\u001b[0m\u001b[1;33m]\u001b[0m \u001b[1;33m==\u001b[0m \u001b[0mspeaker\u001b[0m\u001b[1;33m]\u001b[0m\u001b[1;33m[\u001b[0m\u001b[1;34m'token_count'\u001b[0m\u001b[1;33m]\u001b[0m\u001b[1;33m)\u001b[0m\u001b[1;33m\u001b[0m\u001b[1;33m\u001b[0m\u001b[0m\n\u001b[0;32m     12\u001b[0m \u001b[1;33m\u001b[0m\u001b[0m\n",
            "\u001b[1;31mTypeError\u001b[0m: 'StandardScaler' object is not callable"
          ]
        }
      ],
      "source": [
        "tokens, IP = token_into_dis(filelist[-1])"
      ]
    },
    {
      "cell_type": "code",
      "execution_count": null,
      "id": "15c94718",
      "metadata": {
        "id": "15c94718",
        "outputId": "76af773e-b97c-4f14-ca10-cad05c0cfb5f"
      },
      "outputs": [
        {
          "data": {
            "text/plain": [
              "({'SD2302167': '남성', 'SD2302168': '남성'},\n",
              " {'SD2302167': [14,\n",
              "   3,\n",
              "   12,\n",
              "   9,\n",
              "   14,\n",
              "   9,\n",
              "   10,\n",
              "   4,\n",
              "   11,\n",
              "   14,\n",
              "   8,\n",
              "   7,\n",
              "   7,\n",
              "   14,\n",
              "   13,\n",
              "   4,\n",
              "   19,\n",
              "   14,\n",
              "   15,\n",
              "   4,\n",
              "   17,\n",
              "   13,\n",
              "   6,\n",
              "   12,\n",
              "   6,\n",
              "   11,\n",
              "   4,\n",
              "   12,\n",
              "   17,\n",
              "   13,\n",
              "   6,\n",
              "   9,\n",
              "   6,\n",
              "   14,\n",
              "   11,\n",
              "   14,\n",
              "   8,\n",
              "   11,\n",
              "   15,\n",
              "   8,\n",
              "   4,\n",
              "   11,\n",
              "   7,\n",
              "   10,\n",
              "   14,\n",
              "   8,\n",
              "   4,\n",
              "   11,\n",
              "   7,\n",
              "   13,\n",
              "   11,\n",
              "   12,\n",
              "   8,\n",
              "   11,\n",
              "   7,\n",
              "   5,\n",
              "   10,\n",
              "   12,\n",
              "   3,\n",
              "   9,\n",
              "   8,\n",
              "   9,\n",
              "   3,\n",
              "   2,\n",
              "   14,\n",
              "   2,\n",
              "   13,\n",
              "   6,\n",
              "   12,\n",
              "   14,\n",
              "   8,\n",
              "   11,\n",
              "   8,\n",
              "   11,\n",
              "   8,\n",
              "   7,\n",
              "   3,\n",
              "   12,\n",
              "   6,\n",
              "   12,\n",
              "   7,\n",
              "   10,\n",
              "   7,\n",
              "   7,\n",
              "   11,\n",
              "   14,\n",
              "   8,\n",
              "   6,\n",
              "   8,\n",
              "   12,\n",
              "   10,\n",
              "   13,\n",
              "   9,\n",
              "   5,\n",
              "   7,\n",
              "   9,\n",
              "   13,\n",
              "   10,\n",
              "   6,\n",
              "   10,\n",
              "   6,\n",
              "   5,\n",
              "   10,\n",
              "   7,\n",
              "   6,\n",
              "   6,\n",
              "   5,\n",
              "   4,\n",
              "   1,\n",
              "   8,\n",
              "   9,\n",
              "   15,\n",
              "   7,\n",
              "   4,\n",
              "   10,\n",
              "   15,\n",
              "   4,\n",
              "   3,\n",
              "   9,\n",
              "   6,\n",
              "   8,\n",
              "   11,\n",
              "   12,\n",
              "   9,\n",
              "   15,\n",
              "   3,\n",
              "   4,\n",
              "   17,\n",
              "   5,\n",
              "   10,\n",
              "   13,\n",
              "   4,\n",
              "   15,\n",
              "   14,\n",
              "   17,\n",
              "   13,\n",
              "   4,\n",
              "   15,\n",
              "   3,\n",
              "   2,\n",
              "   11,\n",
              "   16,\n",
              "   9,\n",
              "   8,\n",
              "   6,\n",
              "   9,\n",
              "   7,\n",
              "   13,\n",
              "   12,\n",
              "   6,\n",
              "   7,\n",
              "   7,\n",
              "   13,\n",
              "   11,\n",
              "   9,\n",
              "   13,\n",
              "   7,\n",
              "   10],\n",
              "  'SD2302168': [9,\n",
              "   6,\n",
              "   10,\n",
              "   11,\n",
              "   11,\n",
              "   7,\n",
              "   8,\n",
              "   3,\n",
              "   9,\n",
              "   8,\n",
              "   7,\n",
              "   17,\n",
              "   13,\n",
              "   5,\n",
              "   12,\n",
              "   3,\n",
              "   9,\n",
              "   4,\n",
              "   9,\n",
              "   4,\n",
              "   9,\n",
              "   9,\n",
              "   8,\n",
              "   11,\n",
              "   7,\n",
              "   12,\n",
              "   6,\n",
              "   10,\n",
              "   11,\n",
              "   6,\n",
              "   3,\n",
              "   13,\n",
              "   16,\n",
              "   6,\n",
              "   10,\n",
              "   6,\n",
              "   11,\n",
              "   4,\n",
              "   7,\n",
              "   9,\n",
              "   4,\n",
              "   6,\n",
              "   5,\n",
              "   8,\n",
              "   3,\n",
              "   11,\n",
              "   8,\n",
              "   4,\n",
              "   9,\n",
              "   14,\n",
              "   10,\n",
              "   5,\n",
              "   6,\n",
              "   4,\n",
              "   4,\n",
              "   7,\n",
              "   6,\n",
              "   10,\n",
              "   7,\n",
              "   13,\n",
              "   5,\n",
              "   11,\n",
              "   10,\n",
              "   4,\n",
              "   5,\n",
              "   9,\n",
              "   12,\n",
              "   16,\n",
              "   4,\n",
              "   7,\n",
              "   5,\n",
              "   13,\n",
              "   11,\n",
              "   14,\n",
              "   9,\n",
              "   6,\n",
              "   15,\n",
              "   9,\n",
              "   17,\n",
              "   8,\n",
              "   6,\n",
              "   8,\n",
              "   12,\n",
              "   6,\n",
              "   4,\n",
              "   11,\n",
              "   16,\n",
              "   5,\n",
              "   4,\n",
              "   11,\n",
              "   4,\n",
              "   7,\n",
              "   7,\n",
              "   7,\n",
              "   7,\n",
              "   10,\n",
              "   4,\n",
              "   18,\n",
              "   4,\n",
              "   6,\n",
              "   16,\n",
              "   5,\n",
              "   7,\n",
              "   12,\n",
              "   7,\n",
              "   11,\n",
              "   4,\n",
              "   11,\n",
              "   8,\n",
              "   7,\n",
              "   8,\n",
              "   9,\n",
              "   3,\n",
              "   10,\n",
              "   13]})"
            ]
          },
          "execution_count": 122,
          "metadata": {},
          "output_type": "execute_result"
        }
      ],
      "source": [
        "tokens, IP"
      ]
    },
    {
      "cell_type": "markdown",
      "id": "4fe745c1",
      "metadata": {
        "id": "4fe745c1"
      },
      "source": [
        "- 전체 화자 억양구 분포"
      ]
    },
    {
      "cell_type": "code",
      "execution_count": null,
      "id": "008d38a5",
      "metadata": {
        "id": "008d38a5",
        "outputId": "eed0f61f-d2c7-4573-ac8f-0485f34ea0c0"
      },
      "outputs": [
        {
          "data": {
            "text/plain": [
              "5.530285927503558"
            ]
          },
          "execution_count": 136,
          "metadata": {},
          "output_type": "execute_result"
        }
      ],
      "source": [
        "np.mean([np.mean(extract_utterance(file)['token_count']) for file in filelist])"
      ]
    },
    {
      "cell_type": "code",
      "execution_count": null,
      "id": "2302f918",
      "metadata": {
        "id": "2302f918",
        "outputId": "bd956949-5135-4496-bc22-d6efd1fee188"
      },
      "outputs": [
        {
          "data": {
            "text/plain": [
              "9.436386529729536"
            ]
          },
          "execution_count": 137,
          "metadata": {},
          "output_type": "execute_result"
        }
      ],
      "source": [
        "np.mean([np.var(extract_utterance(file)['token_count']) for file in filelist])"
      ]
    },
    {
      "cell_type": "code",
      "execution_count": null,
      "id": "dee13a2b",
      "metadata": {
        "id": "dee13a2b"
      },
      "outputs": [],
      "source": [
        "length = [count for file in filelist for count in extract_utterance(file)['token_count']]"
      ]
    },
    {
      "cell_type": "code",
      "execution_count": null,
      "id": "b562749d",
      "metadata": {
        "id": "b562749d",
        "outputId": "f590a75e-593b-468d-96f9-a4e5277a6274"
      },
      "outputs": [
        {
          "data": {
            "text/plain": [
              "Text(0.5, 1.0, 'IP length distribution')"
            ]
          },
          "execution_count": 146,
          "metadata": {},
          "output_type": "execute_result"
        },
        {
          "data": {
            "image/png": "[encoded data removed]",
            "text/plain": [
              "<Figure size 432x288 with 1 Axes>"
            ]
          },
          "metadata": {
            "needs_background": "light"
          },
          "output_type": "display_data"
        }
      ],
      "source": [
        "plt.hist(length, width = 2, color = 'gray')\n",
        "\n",
        "plt.xtickst(np.arange(25))\n",
        "\n",
        "plt.xlabel('the Number of word segment in one IP')\n",
        "plt.ylabel('Count')\n",
        "\n",
        "plt.title('IP length distribution')\n",
        "plt.savefig('./IP+length+distribution')"
      ]
    },
    {
      "cell_type": "markdown",
      "id": "6dc54068",
      "metadata": {
        "id": "6dc54068"
      },
      "source": [
        "- 성별별 억양구 길이 분포"
      ]
    },
    {
      "cell_type": "code",
      "execution_count": null,
      "id": "785bf506",
      "metadata": {
        "id": "785bf506",
        "outputId": "78db4ec2-bf82-41cb-a29d-0d3e7e0cfd65"
      },
      "outputs": [
        {
          "data": {
            "text/html": [
              "<div>\n",
              "<style scoped>\n",
              "    .dataframe tbody tr th:only-of-type {\n",
              "        vertical-align: middle;\n",
              "    }\n",
              "\n",
              "    .dataframe tbody tr th {\n",
              "        vertical-align: top;\n",
              "    }\n",
              "\n",
              "    .dataframe thead th {\n",
              "        text-align: right;\n",
              "    }\n",
              "</style>\n",
              "<table border=\"1\" class=\"dataframe\">\n",
              "  <thead>\n",
              "    <tr style=\"text-align: right;\">\n",
              "      <th></th>\n",
              "      <th></th>\n",
              "      <th>token_count</th>\n",
              "      <th>sex_M</th>\n",
              "    </tr>\n",
              "    <tr>\n",
              "      <th>speaker_id</th>\n",
              "      <th></th>\n",
              "      <th></th>\n",
              "      <th></th>\n",
              "    </tr>\n",
              "  </thead>\n",
              "  <tbody>\n",
              "    <tr>\n",
              "      <th rowspan=\"5\" valign=\"top\">SD2302167</th>\n",
              "      <th>0</th>\n",
              "      <td>14</td>\n",
              "      <td>True</td>\n",
              "    </tr>\n",
              "    <tr>\n",
              "      <th>1</th>\n",
              "      <td>3</td>\n",
              "      <td>True</td>\n",
              "    </tr>\n",
              "    <tr>\n",
              "      <th>2</th>\n",
              "      <td>12</td>\n",
              "      <td>True</td>\n",
              "    </tr>\n",
              "    <tr>\n",
              "      <th>3</th>\n",
              "      <td>9</td>\n",
              "      <td>True</td>\n",
              "    </tr>\n",
              "    <tr>\n",
              "      <th>4</th>\n",
              "      <td>14</td>\n",
              "      <td>True</td>\n",
              "    </tr>\n",
              "    <tr>\n",
              "      <th>...</th>\n",
              "      <th>...</th>\n",
              "      <td>...</td>\n",
              "      <td>...</td>\n",
              "    </tr>\n",
              "    <tr>\n",
              "      <th rowspan=\"5\" valign=\"top\">SD2302168</th>\n",
              "      <th>245</th>\n",
              "      <td>8</td>\n",
              "      <td>True</td>\n",
              "    </tr>\n",
              "    <tr>\n",
              "      <th>246</th>\n",
              "      <td>9</td>\n",
              "      <td>True</td>\n",
              "    </tr>\n",
              "    <tr>\n",
              "      <th>247</th>\n",
              "      <td>3</td>\n",
              "      <td>True</td>\n",
              "    </tr>\n",
              "    <tr>\n",
              "      <th>248</th>\n",
              "      <td>10</td>\n",
              "      <td>True</td>\n",
              "    </tr>\n",
              "    <tr>\n",
              "      <th>249</th>\n",
              "      <td>13</td>\n",
              "      <td>True</td>\n",
              "    </tr>\n",
              "  </tbody>\n",
              "</table>\n",
              "<p>273 rows × 2 columns</p>\n",
              "</div>"
            ],
            "text/plain": [
              "                token_count  sex_M\n",
              "speaker_id                        \n",
              "SD2302167  0             14   True\n",
              "           1              3   True\n",
              "           2             12   True\n",
              "           3              9   True\n",
              "           4             14   True\n",
              "...                     ...    ...\n",
              "SD2302168  245            8   True\n",
              "           246            9   True\n",
              "           247            3   True\n",
              "           248           10   True\n",
              "           249           13   True\n",
              "\n",
              "[273 rows x 2 columns]"
            ]
          },
          "execution_count": 158,
          "metadata": {},
          "output_type": "execute_result"
        }
      ],
      "source": [
        "extract_utterance(filelist[-1]).groupby(['speaker_id']).apply(lambda x: x)[['token_count', 'sex_M']]"
      ]
    },
    {
      "cell_type": "code",
      "execution_count": null,
      "id": "c9c69fe4",
      "metadata": {
        "id": "c9c69fe4"
      },
      "outputs": [],
      "source": [
        "utterance = extract_utterance(filelist[10]).groupby(['speaker_id']).apply(lambda x: x)\n",
        "speakers = extract_speakers(filelist[10])\n"
      ]
    },
    {
      "cell_type": "code",
      "execution_count": null,
      "id": "80c67762",
      "metadata": {
        "id": "80c67762",
        "outputId": "be482448-ffd6-4f80-9405-6ad08ff49295"
      },
      "outputs": [
        {
          "name": "stderr",
          "output_type": "stream",
          "text": [
            "C:\\Users\\AARONC~1\\AppData\\Local\\Temp/ipykernel_25656/3875413759.py:1: FutureWarning: Series.__getitem__ treating keys as positions is deprecated. In a future version, integer keys will always be treated as labels (consistent with DataFrame behavior). To access a value by position, use `ser.iloc[pos]`\n",
            "  utterance.loc[utterance['speaker_id'][0], ]['token_count']\n"
          ]
        },
        {
          "data": {
            "text/plain": [
              "24      5\n",
              "25      6\n",
              "26      9\n",
              "27      6\n",
              "28     10\n",
              "       ..\n",
              "364     5\n",
              "365     3\n",
              "366     3\n",
              "367     3\n",
              "368     3\n",
              "Name: token_count, Length: 144, dtype: int64"
            ]
          },
          "execution_count": 164,
          "metadata": {},
          "output_type": "execute_result"
        }
      ],
      "source": [
        "utterance.loc[utterance['speaker_id'][0], ]['token_count']"
      ]
    },
    {
      "cell_type": "code",
      "execution_count": null,
      "id": "4a1d75f5",
      "metadata": {
        "id": "4a1d75f5",
        "outputId": "c18a6ec5-5335-4df0-efbc-0b6be90bc547"
      },
      "outputs": [
        {
          "name": "stderr",
          "output_type": "stream",
          "text": [
            "C:\\Users\\Aaron Cho\\AppData\\Local\\Programs\\Python\\Python39\\lib\\site-packages\\seaborn\\_oldcore.py:1119: FutureWarning: use_inf_as_na option is deprecated and will be removed in a future version. Convert inf values to NaN before operating instead.\n",
            "  with pd.option_context('mode.use_inf_as_na', True):\n",
            "C:\\Users\\Aaron Cho\\AppData\\Local\\Programs\\Python\\Python39\\lib\\site-packages\\seaborn\\_oldcore.py:1119: FutureWarning: use_inf_as_na option is deprecated and will be removed in a future version. Convert inf values to NaN before operating instead.\n",
            "  with pd.option_context('mode.use_inf_as_na', True):\n"
          ]
        },
        {
          "data": {
            "image/png": "[encoded data removed]",
            "text/plain": [
              "<Figure size 432x288 with 1 Axes>"
            ]
          },
          "metadata": {
            "needs_background": "light"
          },
          "output_type": "display_data"
        }
      ],
      "source": [
        "tokens, IP = token_into_dis(filelist[-1])"
      ]
    },
    {
      "cell_type": "code",
      "execution_count": null,
      "id": "8a933d64",
      "metadata": {
        "id": "8a933d64",
        "outputId": "abece70d-0fe7-4929-d687-75f7996fc66e"
      },
      "outputs": [
        {
          "name": "stderr",
          "output_type": "stream",
          "text": [
            "C:\\Users\\Aaron Cho\\AppData\\Local\\Programs\\Python\\Python39\\lib\\site-packages\\seaborn\\_oldcore.py:1119: FutureWarning: use_inf_as_na option is deprecated and will be removed in a future version. Convert inf values to NaN before operating instead.\n",
            "  with pd.option_context('mode.use_inf_as_na', True):\n",
            "C:\\Users\\Aaron Cho\\AppData\\Local\\Programs\\Python\\Python39\\lib\\site-packages\\seaborn\\_oldcore.py:1119: FutureWarning: use_inf_as_na option is deprecated and will be removed in a future version. Convert inf values to NaN before operating instead.\n",
            "  with pd.option_context('mode.use_inf_as_na', True):\n"
          ]
        },
        {
          "ename": "TypeError",
          "evalue": "string indices must be integers",
          "output_type": "error",
          "traceback": [
            "\u001b[1;31m---------------------------------------------------------------------------\u001b[0m",
            "\u001b[1;31mTypeError\u001b[0m                                 Traceback (most recent call last)",
            "\u001b[1;32mC:\\Users\\AARONC~1\\AppData\\Local\\Temp/ipykernel_25656/3488526475.py\u001b[0m in \u001b[0;36m<module>\u001b[1;34m\u001b[0m\n\u001b[1;32m----> 1\u001b[1;33m \u001b[0mfemale\u001b[0m \u001b[1;33m=\u001b[0m \u001b[1;33m[\u001b[0m\u001b[0mIP\u001b[0m\u001b[1;33m[\u001b[0m\u001b[0mspeaker\u001b[0m\u001b[1;33m]\u001b[0m \u001b[1;32mfor\u001b[0m \u001b[0mfile_path\u001b[0m \u001b[1;32min\u001b[0m \u001b[0mfilelist\u001b[0m \u001b[1;32mfor\u001b[0m \u001b[0mtokens\u001b[0m\u001b[1;33m,\u001b[0m \u001b[0mIP\u001b[0m \u001b[1;32min\u001b[0m \u001b[0mtoken_into_dis\u001b[0m\u001b[1;33m(\u001b[0m\u001b[0mfile_path\u001b[0m\u001b[1;33m)\u001b[0m \u001b[1;32mfor\u001b[0m \u001b[0mspeaker\u001b[0m \u001b[1;32min\u001b[0m \u001b[0mIP\u001b[0m \u001b[1;32mif\u001b[0m \u001b[0mtokens\u001b[0m\u001b[1;33m[\u001b[0m\u001b[0mspeaker\u001b[0m\u001b[1;33m]\u001b[0m \u001b[1;33m==\u001b[0m \u001b[1;34m'여성'\u001b[0m\u001b[1;33m]\u001b[0m\u001b[1;33m\u001b[0m\u001b[1;33m\u001b[0m\u001b[0m\n\u001b[0m",
            "\u001b[1;32mC:\\Users\\AARONC~1\\AppData\\Local\\Temp/ipykernel_25656/3488526475.py\u001b[0m in \u001b[0;36m<listcomp>\u001b[1;34m(.0)\u001b[0m\n\u001b[1;32m----> 1\u001b[1;33m \u001b[0mfemale\u001b[0m \u001b[1;33m=\u001b[0m \u001b[1;33m[\u001b[0m\u001b[0mIP\u001b[0m\u001b[1;33m[\u001b[0m\u001b[0mspeaker\u001b[0m\u001b[1;33m]\u001b[0m \u001b[1;32mfor\u001b[0m \u001b[0mfile_path\u001b[0m \u001b[1;32min\u001b[0m \u001b[0mfilelist\u001b[0m \u001b[1;32mfor\u001b[0m \u001b[0mtokens\u001b[0m\u001b[1;33m,\u001b[0m \u001b[0mIP\u001b[0m \u001b[1;32min\u001b[0m \u001b[0mtoken_into_dis\u001b[0m\u001b[1;33m(\u001b[0m\u001b[0mfile_path\u001b[0m\u001b[1;33m)\u001b[0m \u001b[1;32mfor\u001b[0m \u001b[0mspeaker\u001b[0m \u001b[1;32min\u001b[0m \u001b[0mIP\u001b[0m \u001b[1;32mif\u001b[0m \u001b[0mtokens\u001b[0m\u001b[1;33m[\u001b[0m\u001b[0mspeaker\u001b[0m\u001b[1;33m]\u001b[0m \u001b[1;33m==\u001b[0m \u001b[1;34m'여성'\u001b[0m\u001b[1;33m]\u001b[0m\u001b[1;33m\u001b[0m\u001b[1;33m\u001b[0m\u001b[0m\n\u001b[0m",
            "\u001b[1;31mTypeError\u001b[0m: string indices must be integers"
          ]
        },
        {
          "data": {
            "image/png": "[encoded data removed]",
            "text/plain": [
              "<Figure size 432x288 with 1 Axes>"
            ]
          },
          "metadata": {
            "needs_background": "light"
          },
          "output_type": "display_data"
        }
      ],
      "source": [
        "female = [IP[speaker] for file_path in filelist for tokens, IP in token_into_dis(file_path) for speaker in IP if tokens[speaker] == '여성']\n"
      ]
    },
    {
      "cell_type": "code",
      "execution_count": null,
      "id": "62070cb9",
      "metadata": {
        "id": "62070cb9"
      },
      "outputs": [],
      "source": [
        "from sklearn.preprocessing import StandardScaler\n",
        "scaler = StandardScaler()\n",
        "\n",
        "Array = np.arange(3, 300, 5).reshape(-1, 1)"
      ]
    },
    {
      "cell_type": "code",
      "execution_count": null,
      "id": "e6ab19e6",
      "metadata": {
        "id": "e6ab19e6",
        "outputId": "ff9dd409-3907-43ce-9835-040582de8812"
      },
      "outputs": [
        {
          "data": {
            "text/plain": [
              "array([[  3],\n",
              "       [  8],\n",
              "       [ 13],\n",
              "       [ 18],\n",
              "       [ 23],\n",
              "       [ 28],\n",
              "       [ 33],\n",
              "       [ 38],\n",
              "       [ 43],\n",
              "       [ 48],\n",
              "       [ 53],\n",
              "       [ 58],\n",
              "       [ 63],\n",
              "       [ 68],\n",
              "       [ 73],\n",
              "       [ 78],\n",
              "       [ 83],\n",
              "       [ 88],\n",
              "       [ 93],\n",
              "       [ 98],\n",
              "       [103],\n",
              "       [108],\n",
              "       [113],\n",
              "       [118],\n",
              "       [123],\n",
              "       [128],\n",
              "       [133],\n",
              "       [138],\n",
              "       [143],\n",
              "       [148],\n",
              "       [153],\n",
              "       [158],\n",
              "       [163],\n",
              "       [168],\n",
              "       [173],\n",
              "       [178],\n",
              "       [183],\n",
              "       [188],\n",
              "       [193],\n",
              "       [198],\n",
              "       [203],\n",
              "       [208],\n",
              "       [213],\n",
              "       [218],\n",
              "       [223],\n",
              "       [228],\n",
              "       [233],\n",
              "       [238],\n",
              "       [243],\n",
              "       [248],\n",
              "       [253],\n",
              "       [258],\n",
              "       [263],\n",
              "       [268],\n",
              "       [273],\n",
              "       [278],\n",
              "       [283],\n",
              "       [288],\n",
              "       [293],\n",
              "       [298]])"
            ]
          },
          "execution_count": 186,
          "metadata": {},
          "output_type": "execute_result"
        }
      ],
      "source": [
        "Array"
      ]
    },
    {
      "cell_type": "code",
      "execution_count": null,
      "id": "e6e9ed95",
      "metadata": {
        "id": "e6e9ed95",
        "outputId": "80ed8837-d2e9-40d0-afc8-6e45036cf2c3"
      },
      "outputs": [
        {
          "data": {
            "text/plain": [
              "array([[-1.7034199 ],\n",
              "       [-1.64567685],\n",
              "       [-1.5879338 ],\n",
              "       [-1.53019075],\n",
              "       [-1.47244771],\n",
              "       [-1.41470466],\n",
              "       [-1.35696161],\n",
              "       [-1.29921857],\n",
              "       [-1.24147552],\n",
              "       [-1.18373247],\n",
              "       [-1.12598942],\n",
              "       [-1.06824638],\n",
              "       [-1.01050333],\n",
              "       [-0.95276028],\n",
              "       [-0.89501723],\n",
              "       [-0.83727419],\n",
              "       [-0.77953114],\n",
              "       [-0.72178809],\n",
              "       [-0.66404504],\n",
              "       [-0.606302  ],\n",
              "       [-0.54855895],\n",
              "       [-0.4908159 ],\n",
              "       [-0.43307286],\n",
              "       [-0.37532981],\n",
              "       [-0.31758676],\n",
              "       [-0.25984371],\n",
              "       [-0.20210067],\n",
              "       [-0.14435762],\n",
              "       [-0.08661457],\n",
              "       [-0.02887152],\n",
              "       [ 0.02887152],\n",
              "       [ 0.08661457],\n",
              "       [ 0.14435762],\n",
              "       [ 0.20210067],\n",
              "       [ 0.25984371],\n",
              "       [ 0.31758676],\n",
              "       [ 0.37532981],\n",
              "       [ 0.43307286],\n",
              "       [ 0.4908159 ],\n",
              "       [ 0.54855895],\n",
              "       [ 0.606302  ],\n",
              "       [ 0.66404504],\n",
              "       [ 0.72178809],\n",
              "       [ 0.77953114],\n",
              "       [ 0.83727419],\n",
              "       [ 0.89501723],\n",
              "       [ 0.95276028],\n",
              "       [ 1.01050333],\n",
              "       [ 1.06824638],\n",
              "       [ 1.12598942],\n",
              "       [ 1.18373247],\n",
              "       [ 1.24147552],\n",
              "       [ 1.29921857],\n",
              "       [ 1.35696161],\n",
              "       [ 1.41470466],\n",
              "       [ 1.47244771],\n",
              "       [ 1.53019075],\n",
              "       [ 1.5879338 ],\n",
              "       [ 1.64567685],\n",
              "       [ 1.7034199 ]])"
            ]
          },
          "execution_count": 187,
          "metadata": {},
          "output_type": "execute_result"
        }
      ],
      "source": [
        "scaler.fit_transform(Array)"
      ]
    },
    {
      "cell_type": "code",
      "execution_count": null,
      "id": "31726eda",
      "metadata": {
        "id": "31726eda",
        "outputId": "3bbc492a-9715-490b-c946-ef29a519ab68"
      },
      "outputs": [
        {
          "data": {
            "text/plain": [
              "defaultdict(list, {})"
            ]
          },
          "execution_count": 209,
          "metadata": {},
          "output_type": "execute_result"
        }
      ],
      "source": [
        "collections.defaultdict(list)"
      ]
    },
    {
      "cell_type": "code",
      "execution_count": null,
      "id": "3761222c",
      "metadata": {
        "id": "3761222c"
      },
      "outputs": [],
      "source": [
        "def token_into_dist(path):\n",
        "    from sklearn.preprocessing import StandardScaler\n",
        "    import collections\n",
        "    scaler = StandardScaler()\n",
        "    tokens = collections.defaultdict(list)\n",
        "\n",
        "    speakers, utterance = extract_speakers(path), extract_utterance(path)\n",
        "    for speaker in speakers:\n",
        "        counts = np.array(utterance[utterance['speaker_id'] == speaker]['token_count']).reshape(-1, 1)\n",
        "        tokens[speaker] = counts\n",
        "        sns.histplot(scaler.fit_transform(counts))\n",
        "\n",
        "    return tokens"
      ]
    },
    {
      "cell_type": "code",
      "execution_count": null,
      "id": "d358a89c",
      "metadata": {
        "id": "d358a89c",
        "outputId": "0946e868-ad2c-458f-ff3c-242bbd63c401"
      },
      "outputs": [
        {
          "name": "stderr",
          "output_type": "stream",
          "text": [
            "C:\\Users\\Aaron Cho\\AppData\\Local\\Programs\\Python\\Python39\\lib\\site-packages\\seaborn\\_oldcore.py:1119: FutureWarning: use_inf_as_na option is deprecated and will be removed in a future version. Convert inf values to NaN before operating instead.\n",
            "  with pd.option_context('mode.use_inf_as_na', True):\n",
            "C:\\Users\\Aaron Cho\\AppData\\Local\\Programs\\Python\\Python39\\lib\\site-packages\\seaborn\\_oldcore.py:1119: FutureWarning: use_inf_as_na option is deprecated and will be removed in a future version. Convert inf values to NaN before operating instead.\n",
            "  with pd.option_context('mode.use_inf_as_na', True):\n"
          ]
        },
        {
          "data": {
            "image/png": "[encoded data removed]",
            "text/plain": [
              "<Figure size 432x288 with 1 Axes>"
            ]
          },
          "metadata": {
            "needs_background": "light"
          },
          "output_type": "display_data"
        }
      ],
      "source": [
        "tokens = token_into_dist(filelist[-1])"
      ]
    },
    {
      "cell_type": "code",
      "execution_count": null,
      "id": "f7451be1",
      "metadata": {
        "id": "f7451be1",
        "outputId": "4c3f4587-88db-47c7-fd68-8efaa6d2ed3f"
      },
      "outputs": [
        {
          "data": {
            "text/plain": [
              "defaultdict(list,\n",
              "            {'SD2302167': array([[14],\n",
              "                    [ 3],\n",
              "                    [12],\n",
              "                    [ 9],\n",
              "                    [14],\n",
              "                    [ 9],\n",
              "                    [10],\n",
              "                    [ 4],\n",
              "                    [11],\n",
              "                    [14],\n",
              "                    [ 8],\n",
              "                    [ 7],\n",
              "                    [ 7],\n",
              "                    [14],\n",
              "                    [13],\n",
              "                    [ 4],\n",
              "                    [19],\n",
              "                    [14],\n",
              "                    [15],\n",
              "                    [ 4],\n",
              "                    [17],\n",
              "                    [13],\n",
              "                    [ 6],\n",
              "                    [12],\n",
              "                    [ 6],\n",
              "                    [11],\n",
              "                    [ 4],\n",
              "                    [12],\n",
              "                    [17],\n",
              "                    [13],\n",
              "                    [ 6],\n",
              "                    [ 9],\n",
              "                    [ 6],\n",
              "                    [14],\n",
              "                    [11],\n",
              "                    [14],\n",
              "                    [ 8],\n",
              "                    [11],\n",
              "                    [15],\n",
              "                    [ 8],\n",
              "                    [ 4],\n",
              "                    [11],\n",
              "                    [ 7],\n",
              "                    [10],\n",
              "                    [14],\n",
              "                    [ 8],\n",
              "                    [ 4],\n",
              "                    [11],\n",
              "                    [ 7],\n",
              "                    [13],\n",
              "                    [11],\n",
              "                    [12],\n",
              "                    [ 8],\n",
              "                    [11],\n",
              "                    [ 7],\n",
              "                    [ 5],\n",
              "                    [10],\n",
              "                    [12],\n",
              "                    [ 3],\n",
              "                    [ 9],\n",
              "                    [ 8],\n",
              "                    [ 9],\n",
              "                    [ 3],\n",
              "                    [ 2],\n",
              "                    [14],\n",
              "                    [ 2],\n",
              "                    [13],\n",
              "                    [ 6],\n",
              "                    [12],\n",
              "                    [14],\n",
              "                    [ 8],\n",
              "                    [11],\n",
              "                    [ 8],\n",
              "                    [11],\n",
              "                    [ 8],\n",
              "                    [ 7],\n",
              "                    [ 3],\n",
              "                    [12],\n",
              "                    [ 6],\n",
              "                    [12],\n",
              "                    [ 7],\n",
              "                    [10],\n",
              "                    [ 7],\n",
              "                    [ 7],\n",
              "                    [11],\n",
              "                    [14],\n",
              "                    [ 8],\n",
              "                    [ 6],\n",
              "                    [ 8],\n",
              "                    [12],\n",
              "                    [10],\n",
              "                    [13],\n",
              "                    [ 9],\n",
              "                    [ 5],\n",
              "                    [ 7],\n",
              "                    [ 9],\n",
              "                    [13],\n",
              "                    [10],\n",
              "                    [ 6],\n",
              "                    [10],\n",
              "                    [ 6],\n",
              "                    [ 5],\n",
              "                    [10],\n",
              "                    [ 7],\n",
              "                    [ 6],\n",
              "                    [ 6],\n",
              "                    [ 5],\n",
              "                    [ 4],\n",
              "                    [ 1],\n",
              "                    [ 8],\n",
              "                    [ 9],\n",
              "                    [15],\n",
              "                    [ 7],\n",
              "                    [ 4],\n",
              "                    [10],\n",
              "                    [15],\n",
              "                    [ 4],\n",
              "                    [ 3],\n",
              "                    [ 9],\n",
              "                    [ 6],\n",
              "                    [ 8],\n",
              "                    [11],\n",
              "                    [12],\n",
              "                    [ 9],\n",
              "                    [15],\n",
              "                    [ 3],\n",
              "                    [ 4],\n",
              "                    [17],\n",
              "                    [ 5],\n",
              "                    [10],\n",
              "                    [13],\n",
              "                    [ 4],\n",
              "                    [15],\n",
              "                    [14],\n",
              "                    [17],\n",
              "                    [13],\n",
              "                    [ 4],\n",
              "                    [15],\n",
              "                    [ 3],\n",
              "                    [ 2],\n",
              "                    [11],\n",
              "                    [16],\n",
              "                    [ 9],\n",
              "                    [ 8],\n",
              "                    [ 6],\n",
              "                    [ 9],\n",
              "                    [ 7],\n",
              "                    [13],\n",
              "                    [12],\n",
              "                    [ 6],\n",
              "                    [ 7],\n",
              "                    [ 7],\n",
              "                    [13],\n",
              "                    [11],\n",
              "                    [ 9],\n",
              "                    [13],\n",
              "                    [ 7],\n",
              "                    [10]], dtype=int64),\n",
              "             'SD2302168': array([[ 9],\n",
              "                    [ 6],\n",
              "                    [10],\n",
              "                    [11],\n",
              "                    [11],\n",
              "                    [ 7],\n",
              "                    [ 8],\n",
              "                    [ 3],\n",
              "                    [ 9],\n",
              "                    [ 8],\n",
              "                    [ 7],\n",
              "                    [17],\n",
              "                    [13],\n",
              "                    [ 5],\n",
              "                    [12],\n",
              "                    [ 3],\n",
              "                    [ 9],\n",
              "                    [ 4],\n",
              "                    [ 9],\n",
              "                    [ 4],\n",
              "                    [ 9],\n",
              "                    [ 9],\n",
              "                    [ 8],\n",
              "                    [11],\n",
              "                    [ 7],\n",
              "                    [12],\n",
              "                    [ 6],\n",
              "                    [10],\n",
              "                    [11],\n",
              "                    [ 6],\n",
              "                    [ 3],\n",
              "                    [13],\n",
              "                    [16],\n",
              "                    [ 6],\n",
              "                    [10],\n",
              "                    [ 6],\n",
              "                    [11],\n",
              "                    [ 4],\n",
              "                    [ 7],\n",
              "                    [ 9],\n",
              "                    [ 4],\n",
              "                    [ 6],\n",
              "                    [ 5],\n",
              "                    [ 8],\n",
              "                    [ 3],\n",
              "                    [11],\n",
              "                    [ 8],\n",
              "                    [ 4],\n",
              "                    [ 9],\n",
              "                    [14],\n",
              "                    [10],\n",
              "                    [ 5],\n",
              "                    [ 6],\n",
              "                    [ 4],\n",
              "                    [ 4],\n",
              "                    [ 7],\n",
              "                    [ 6],\n",
              "                    [10],\n",
              "                    [ 7],\n",
              "                    [13],\n",
              "                    [ 5],\n",
              "                    [11],\n",
              "                    [10],\n",
              "                    [ 4],\n",
              "                    [ 5],\n",
              "                    [ 9],\n",
              "                    [12],\n",
              "                    [16],\n",
              "                    [ 4],\n",
              "                    [ 7],\n",
              "                    [ 5],\n",
              "                    [13],\n",
              "                    [11],\n",
              "                    [14],\n",
              "                    [ 9],\n",
              "                    [ 6],\n",
              "                    [15],\n",
              "                    [ 9],\n",
              "                    [17],\n",
              "                    [ 8],\n",
              "                    [ 6],\n",
              "                    [ 8],\n",
              "                    [12],\n",
              "                    [ 6],\n",
              "                    [ 4],\n",
              "                    [11],\n",
              "                    [16],\n",
              "                    [ 5],\n",
              "                    [ 4],\n",
              "                    [11],\n",
              "                    [ 4],\n",
              "                    [ 7],\n",
              "                    [ 7],\n",
              "                    [ 7],\n",
              "                    [ 7],\n",
              "                    [10],\n",
              "                    [ 4],\n",
              "                    [18],\n",
              "                    [ 4],\n",
              "                    [ 6],\n",
              "                    [16],\n",
              "                    [ 5],\n",
              "                    [ 7],\n",
              "                    [12],\n",
              "                    [ 7],\n",
              "                    [11],\n",
              "                    [ 4],\n",
              "                    [11],\n",
              "                    [ 8],\n",
              "                    [ 7],\n",
              "                    [ 8],\n",
              "                    [ 9],\n",
              "                    [ 3],\n",
              "                    [10],\n",
              "                    [13]], dtype=int64)})"
            ]
          },
          "execution_count": 213,
          "metadata": {},
          "output_type": "execute_result"
        }
      ],
      "source": [
        "tokens"
      ]
    },
    {
      "cell_type": "markdown",
      "id": "08049d5e",
      "metadata": {
        "id": "08049d5e"
      },
      "source": [
        "- (2) Support Vector Regressor"
      ]
    },
    {
      "cell_type": "code",
      "execution_count": null,
      "id": "6c315f6d",
      "metadata": {
        "id": "6c315f6d"
      },
      "outputs": [],
      "source": [
        "from sklearn.svm import SVR\n",
        "from sklearn.metrics import mean_squared_error\n",
        "from sklearn.model_selection import train_test_split, GridSearchCV\n",
        "\n",
        "\n",
        "parameters = {'C': [0.001, 0.01, 1, 100],\n",
        "             'epsilon': [0.1, 0.2, 0.3]}\n",
        "\n",
        "grid_search = GridSearch(SVR(kernel = 'rbf'), parameters, scoring = 'neg_mean_squared_error')\n",
        "grid_search.fit(x_train, y_train)\n",
        "model = grid_search.best_estimator_"
      ]
    },
    {
      "cell_type": "code",
      "execution_count": null,
      "id": "e7174639",
      "metadata": {
        "id": "e7174639"
      },
      "outputs": [],
      "source": [
        "def extract_speakers(path):\n",
        "    #open json file and read\n",
        "    with open(path, encoding = 'utf8') as f:\n",
        "        sample = json.loads(f.read())\n",
        "\n",
        "    #extract document\n",
        "    document = sample['document'][0]\n",
        "\n",
        "    #extract the speakers\n",
        "    speakers = dict()\n",
        "    for speaker in document['metadata']['speaker']:\n",
        "        speakers[speaker['id']] = speaker['sex']\n",
        "\n",
        "    return speakers"
      ]
    },
    {
      "cell_type": "code",
      "execution_count": null,
      "id": "dfb3227d",
      "metadata": {
        "id": "dfb3227d"
      },
      "outputs": [],
      "source": [
        "def extract_length(path):\n",
        "    #open json file and read\n",
        "    with open(path, encoding = 'utf8') as f:\n",
        "        sample = json.loads(f.read())\n",
        "\n",
        "\n",
        "    #extract document and the utterance\n",
        "    document = sample['document'][0]\n",
        "    utterance = pd.DataFrame(document['utterance'])\n",
        "\n",
        "    #extract the speakers and the utterances\n",
        "    speakers = extract_speakers(path)\n",
        "\n",
        "    #add up COUNT(the number of tokens within one intonational phrase), DURATION(the start and the end of one intonational phrase marked), SEX(the sex of the speaker)\n",
        "    utterance['token_count'] = pd.Series(map(lambda x: len(x.split()), utterance['form']))\n",
        "    utterance = utterance[['speaker_id', 'token_count']]\n",
        "\n",
        "    return utterance"
      ]
    },
    {
      "cell_type": "code",
      "execution_count": null,
      "id": "4729091f",
      "metadata": {
        "scrolled": true,
        "id": "4729091f",
        "outputId": "74a4db7a-00ab-4216-f327-eb4664e7d543"
      },
      "outputs": [
        {
          "data": {
            "text/plain": [
              "{'SD2302167': '남성', 'SD2302168': '남성'}"
            ]
          },
          "execution_count": 17,
          "metadata": {},
          "output_type": "execute_result"
        }
      ],
      "source": [
        "extract_speakers(filelist[-1])"
      ]
    },
    {
      "cell_type": "code",
      "execution_count": null,
      "id": "d1591e61",
      "metadata": {
        "scrolled": true,
        "id": "d1591e61",
        "outputId": "8367f67f-bf1c-4827-ac0a-65e639800614"
      },
      "outputs": [
        {
          "data": {
            "text/html": [
              "<div>\n",
              "<style scoped>\n",
              "    .dataframe tbody tr th:only-of-type {\n",
              "        vertical-align: middle;\n",
              "    }\n",
              "\n",
              "    .dataframe tbody tr th {\n",
              "        vertical-align: top;\n",
              "    }\n",
              "\n",
              "    .dataframe thead th {\n",
              "        text-align: right;\n",
              "    }\n",
              "</style>\n",
              "<table border=\"1\" class=\"dataframe\">\n",
              "  <thead>\n",
              "    <tr style=\"text-align: right;\">\n",
              "      <th></th>\n",
              "      <th>speaker_id</th>\n",
              "      <th>token_count</th>\n",
              "    </tr>\n",
              "  </thead>\n",
              "  <tbody>\n",
              "    <tr>\n",
              "      <th>0</th>\n",
              "      <td>SD2302167</td>\n",
              "      <td>14</td>\n",
              "    </tr>\n",
              "    <tr>\n",
              "      <th>1</th>\n",
              "      <td>SD2302167</td>\n",
              "      <td>3</td>\n",
              "    </tr>\n",
              "    <tr>\n",
              "      <th>2</th>\n",
              "      <td>SD2302167</td>\n",
              "      <td>12</td>\n",
              "    </tr>\n",
              "    <tr>\n",
              "      <th>3</th>\n",
              "      <td>SD2302167</td>\n",
              "      <td>9</td>\n",
              "    </tr>\n",
              "    <tr>\n",
              "      <th>4</th>\n",
              "      <td>SD2302167</td>\n",
              "      <td>14</td>\n",
              "    </tr>\n",
              "    <tr>\n",
              "      <th>...</th>\n",
              "      <td>...</td>\n",
              "      <td>...</td>\n",
              "    </tr>\n",
              "    <tr>\n",
              "      <th>268</th>\n",
              "      <td>SD2302167</td>\n",
              "      <td>11</td>\n",
              "    </tr>\n",
              "    <tr>\n",
              "      <th>269</th>\n",
              "      <td>SD2302167</td>\n",
              "      <td>9</td>\n",
              "    </tr>\n",
              "    <tr>\n",
              "      <th>270</th>\n",
              "      <td>SD2302167</td>\n",
              "      <td>13</td>\n",
              "    </tr>\n",
              "    <tr>\n",
              "      <th>271</th>\n",
              "      <td>SD2302167</td>\n",
              "      <td>7</td>\n",
              "    </tr>\n",
              "    <tr>\n",
              "      <th>272</th>\n",
              "      <td>SD2302167</td>\n",
              "      <td>10</td>\n",
              "    </tr>\n",
              "  </tbody>\n",
              "</table>\n",
              "<p>273 rows × 2 columns</p>\n",
              "</div>"
            ],
            "text/plain": [
              "    speaker_id  token_count\n",
              "0    SD2302167           14\n",
              "1    SD2302167            3\n",
              "2    SD2302167           12\n",
              "3    SD2302167            9\n",
              "4    SD2302167           14\n",
              "..         ...          ...\n",
              "268  SD2302167           11\n",
              "269  SD2302167            9\n",
              "270  SD2302167           13\n",
              "271  SD2302167            7\n",
              "272  SD2302167           10\n",
              "\n",
              "[273 rows x 2 columns]"
            ]
          },
          "execution_count": 15,
          "metadata": {},
          "output_type": "execute_result"
        }
      ],
      "source": [
        "extract_length(filelist[-1])"
      ]
    },
    {
      "cell_type": "code",
      "execution_count": null,
      "id": "682e42d4",
      "metadata": {
        "id": "682e42d4"
      },
      "outputs": [],
      "source": [
        "speakers = extract_speakers(filelist[-1])"
      ]
    },
    {
      "cell_type": "code",
      "execution_count": null,
      "id": "f6666d66",
      "metadata": {
        "id": "f6666d66"
      },
      "outputs": [],
      "source": [
        "Speakers = speakers.copy()"
      ]
    },
    {
      "cell_type": "code",
      "execution_count": null,
      "id": "03156824",
      "metadata": {
        "id": "03156824"
      },
      "outputs": [],
      "source": [
        "del Speakers['SD2302167']"
      ]
    },
    {
      "cell_type": "code",
      "execution_count": null,
      "id": "89b1d6c8",
      "metadata": {
        "id": "89b1d6c8",
        "outputId": "f3c01463-11fb-46e7-fcb0-51b1779608b2"
      },
      "outputs": [
        {
          "data": {
            "text/plain": [
              "{'SD2302167': '남성', 'SD2302168': '남성'}"
            ]
          },
          "execution_count": 27,
          "metadata": {},
          "output_type": "execute_result"
        }
      ],
      "source": [
        "speakers"
      ]
    },
    {
      "cell_type": "code",
      "execution_count": null,
      "id": "5e061203",
      "metadata": {
        "id": "5e061203",
        "outputId": "889d237b-70b7-49d0-f051-491e9af0005b"
      },
      "outputs": [
        {
          "data": {
            "text/plain": [
              "{'SD2302168': '남성'}"
            ]
          },
          "execution_count": 28,
          "metadata": {},
          "output_type": "execute_result"
        }
      ],
      "source": [
        "Speakers"
      ]
    },
    {
      "cell_type": "code",
      "execution_count": null,
      "id": "f336c0e3",
      "metadata": {
        "id": "f336c0e3"
      },
      "outputs": [],
      "source": [
        "file = filelist[-1]\n",
        "speakers = extract_speakers(file)\n",
        "token_count = extract_length(file)\n",
        "\n",
        "os.makedir('./feats')\n",
        "os.makedir('./labels')\n",
        "\n",
        "for speaker_id in speakers:\n",
        "    Speakers = speakers.copy()\n",
        "    audience = del Speakers[speaker_id]\n",
        "\n",
        "    file_path = os.splitext(file)[0]\n",
        "    file_feat = os.path.join(os.getcwd(), 'feats', file_path, speaker_id, 'feats.txt')\n",
        "    file_label = os.path.join(os.getcwd(), 'labels', file_path, speaker_id, 'labels.txt')\n",
        "\n",
        "    speaker_sex = speakers[speaker_id]\n",
        "    audience_sex = set(audience.values())\n",
        "    num_parti = len(speakers)\n",
        "\n",
        "    mean_counts = token_count.groupby(['speaker_id']).mean(['token_count'])[speaker]\n",
        "\n",
        "    with open(file_feat, mode = 'w') as f_feat:\n",
        "        f_feat.write('%s %d %s' % (speaker_sex, str(audience_sex), num_parti))\n",
        "    with open(file_label, mode = 'w') as f_label:\n",
        "        f_label.write('%d' % (mean_counts))"
      ]
    },
    {
      "cell_type": "markdown",
      "id": "7e8911fc",
      "metadata": {
        "id": "7e8911fc"
      },
      "source": [
        "-----------------------------------\n",
        "- (1) SVR process\n",
        "    - 데이터 준비 (feats, labels)\n",
        "    - SVR 진행\n",
        "    - 결과 해석\n",
        "- (2) 시각화\n",
        "- 억양구 길이 분포\n",
        "        - 전체\n",
        "        - 성별별\n",
        "        - 성별 명수별\n",
        "- **proposal 수정**"
      ]
    },
    {
      "cell_type": "code",
      "source": [],
      "metadata": {
        "id": "TaxxXrttY13e"
      },
      "id": "TaxxXrttY13e",
      "execution_count": null,
      "outputs": []
    }
  ],
  "metadata": {
    "kernelspec": {
      "display_name": "Python 3 (ipykernel)",
      "language": "python",
      "name": "python3"
    },
    "language_info": {
      "codemirror_mode": {
        "name": "ipython",
        "version": 3
      },
      "file_extension": ".py",
      "mimetype": "text/x-python",
      "name": "python",
      "nbconvert_exporter": "python",
      "pygments_lexer": "ipython3",
      "version": "3.9.7"
    },
    "colab": {
      "provenance": []
    }
  },
  "nbformat": 4,
  "nbformat_minor": 5
}